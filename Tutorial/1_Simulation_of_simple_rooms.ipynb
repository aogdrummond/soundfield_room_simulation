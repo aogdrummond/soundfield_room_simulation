{
 "cells": [
  {
   "cell_type": "markdown",
   "metadata": {},
   "source": [
    "#### Import required libraries and set path to main directory"
   ]
  },
  {
   "cell_type": "code",
   "execution_count": null,
   "metadata": {},
   "outputs": [],
   "source": [
    "import os\n",
    "import sys\n",
    "from pathlib import Path\n",
    "sys.path.append(str(Path(os.getcwd()).parent))"
   ]
  },
  {
   "cell_type": "markdown",
   "metadata": {},
   "source": [
    "#### Import required function to generate the room"
   ]
  },
  {
   "cell_type": "code",
   "execution_count": null,
   "metadata": {},
   "outputs": [],
   "source": [
    "from Core.dataset_creation import create_rectangular_room"
   ]
  },
  {
   "cell_type": "markdown",
   "metadata": {},
   "source": [
    "## 1 - Quick simulation"
   ]
  },
  {
   "cell_type": "markdown",
   "metadata": {},
   "source": [
    "### Set plot's basic features\n",
    "\n",
    "* x_lenght: room's dimension on x axis [m]\n",
    "* y_length: room's dimension on y axis [m]\n",
    "* z_length: room's dimension on z axis [m]\n",
    "* source_x: source coordinate on x axis [m]\n",
    "* source_y: source coordinate on y axis [m]\n",
    "* source_z: source coordinate on z axis [m]\\\n",
    "<sub>(The source position may be omitted, being randomly chosen on this case)</sub>\n",
    "* freq_view: frequency to be represented on plot [Hz]\n",
    "* save: Whether it is to save or not the soundfield on a .mat file\n",
    "* save_path: If \"save\" is \"True\", the path where the file must be saved"
   ]
  },
  {
   "cell_type": "code",
   "execution_count": null,
   "metadata": {},
   "outputs": [],
   "source": [
    "x_length = 2.5\n",
    "y_length = 4\n",
    "z_length = 2.4\n",
    "source_x = 1\n",
    "source_y = 1.5\n",
    "source_z = 1\n",
    "freq_view = 120\n",
    "save = True\n",
    "save_path = os.path.join(str(Path(os.getcwd()).parent),\"Tutorial/sample\")"
   ]
  },
  {
   "cell_type": "markdown",
   "metadata": {},
   "source": [
    "### Run the simulation"
   ]
  },
  {
   "cell_type": "code",
   "execution_count": null,
   "metadata": {},
   "outputs": [],
   "source": [
    "source_position = [source_x,source_y,source_z]\n",
    "room_dim = [x_length,y_length,z_length]\n",
    "\n",
    "create_rectangular_room(room_dim=room_dim,\n",
    "                          source_position=source_position,\n",
    "                          view_soundfield = True,\n",
    "                          freq_view=freq_view,\n",
    "                          save=save,\n",
    "                          dataset_path=save_path)"
   ]
  },
  {
   "cell_type": "markdown",
   "metadata": {},
   "source": [
    "## 2 - Specify acoustic and ambient features\n",
    "\n",
    "* c<sub>0</sub> : speed of sound [m/s] (default 343.0)\n",
    "* $\\rho$<sub>0</sub>: air density [kg/m³] (default 1.21)\n",
    "* temperature : temperature of air [°C] (default 20.0)\n",
    "* humid : air humidity [%] (default 50.0)\n",
    "* p_atm: atmosferic pressure [Pa] (default 101325.00)\n",
    "* T_60: room's reverberation time [s] (default 0.6)\n",
    "* source_Q: source's air volume velocity [m³/s] (default 0.01)\n",
    "* receiver_height: height where soundfield will be plotted on xy axis [m] (default 1.0)\n",
    "* freqMin: smaller frequency whose soundfield will be calculated [Hz] (default 0)\n",
    "* freqMax: largest frequency whose soundfield will be calculated [Hz] (default 150)\n"
   ]
  },
  {
   "cell_type": "code",
   "execution_count": null,
   "metadata": {},
   "outputs": [],
   "source": [
    "c0 = None\n",
    "rho0 = None\n",
    "temperature = 30.0\n",
    "humid = None\n",
    "p_atm = None\n",
    "T60 = 1.0\n",
    "source_Q = None\n",
    "receiver_height = None\n",
    "freqMin = None\n",
    "freqMax = None\n"
   ]
  },
  {
   "cell_type": "markdown",
   "metadata": {},
   "source": [
    "#### Attribute to the keys on dictionary the variable related to the feature. The features not explicitly set will be as set on default.\n",
    "\n",
    "Example, to set T60 of 1 second and 30°C of temperature, all the rest as default: \\\n",
    "\\\n",
    "properties = {\"temperature\":30,\"T60\":1.0}"
   ]
  },
  {
   "cell_type": "code",
   "execution_count": null,
   "metadata": {},
   "outputs": [],
   "source": [
    "\n",
    "properties = {}#{\"c0\"  : c0,\n",
    "              # \"rho0\": rho0}\n",
    "            #   \"temperature\": ,\n",
    "            #   \"humid\": ,\n",
    "            #   \"p_atm\": ,\n",
    "            #   \"T60\": ,\n",
    "            #   \"source_Q\": ,\n",
    "            #   \"receiver_height\": ,\n",
    "            #   \"freqMin\" : ,\n",
    "            #   \"freqMax\" :}\n",
    "\n",
    "create_rectangular_room(room_dim=room_dim,\n",
    "                          source_position=source_position,\n",
    "                          view_soundfield = True,\n",
    "                          freq_view=freq_view,\n",
    "                          save=save,\n",
    "                          dataset_path=save_path,\n",
    "                          **properties)"
   ]
  },
  {
   "cell_type": "markdown",
   "metadata": {},
   "source": [
    "Instead of T60, it is also possible to set room's average coefficient of absorption ($\\alpha$) or normalized admitance ($\\beta$) as feature on \"properties\" dictionary using the keys properties[\"alpha\"] or properties[\"normalized_beta\"].\n",
    "\n",
    "On this case, T60 will be ignored and the soundfield will be calculated according that acoustic feature. Since they are different ways to measure the same property, $\\alpha$ and $\\beta$ must not be set simultaneously, resulting an error if so."
   ]
  }
 ],
 "metadata": {
  "interpreter": {
   "hash": "2b2ca8968d507d8f924ae71330050a6f538357e3c645476b76bf7b990ba45d7f"
  },
  "kernelspec": {
   "display_name": "Python 3.6.13 ('myenv')",
   "language": "python",
   "name": "python3"
  },
  "language_info": {
   "codemirror_mode": {
    "name": "ipython",
    "version": 3
   },
   "file_extension": ".py",
   "mimetype": "text/x-python",
   "name": "python",
   "nbconvert_exporter": "python",
   "pygments_lexer": "ipython3",
   "version": "3.6.13"
  }
 },
 "nbformat": 4,
 "nbformat_minor": 2
}
