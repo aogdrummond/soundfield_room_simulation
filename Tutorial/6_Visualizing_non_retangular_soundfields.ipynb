{
 "cells": [
  {
   "cell_type": "markdown",
   "metadata": {},
   "source": [
    "#### Import required libraries and set path to main directory"
   ]
  },
  {
   "cell_type": "code",
   "execution_count": null,
   "metadata": {},
   "outputs": [],
   "source": [
    "import os\n",
    "import sys\n",
    "from pathlib import Path\n",
    "sys.path.append(str(Path(os.getcwd()).parent))"
   ]
  },
  {
   "cell_type": "code",
   "execution_count": null,
   "metadata": {},
   "outputs": [],
   "source": [
    "os.path.join(str(Path(os.getcwd()).parent))"
   ]
  },
  {
   "cell_type": "markdown",
   "metadata": {},
   "source": [
    "#### Import required function to plot the soundfield"
   ]
  },
  {
   "cell_type": "code",
   "execution_count": null,
   "metadata": {},
   "outputs": [],
   "source": [
    "from Core.utils.plot_tools import general_room_sf, plot_square_sf"
   ]
  },
  {
   "cell_type": "markdown",
   "metadata": {},
   "source": [
    "### Visualize the soundfield on a non-retangular room\n",
    "\n",
    "* file_path: Complete path to the .mat file that will be simulated. It can be either a generated sample or a prediction saved\n",
    "* freq: frequency to be visualized, if available [Hz]"
   ]
  },
  {
   "cell_type": "code",
   "execution_count": null,
   "metadata": {},
   "outputs": [],
   "source": [
    "absolute_path = str(Path(os.getcwd()).parent)\n",
    "prediction_path = \"Tutorial\\sample\\predicted_sf.mat\"\n",
    "general_room_sf(file_path=os.path.join(absolute_path,prediction_path),\n",
    "                freq=51)"
   ]
  },
  {
   "cell_type": "markdown",
   "metadata": {},
   "source": [
    "#### Compare the soundfield predicted with the ground-truth"
   ]
  },
  {
   "cell_type": "code",
   "execution_count": null,
   "metadata": {},
   "outputs": [],
   "source": [
    "original_path = \"Tutorial\\sample\\\\301_d_2.680180754721076_6.179902890814971_33.12651358801486_s_0.4370366_3.1896274_.mat\"\n",
    "general_room_sf(file_path=os.path.join(absolute_path,original_path),\n",
    "                freq = 51)\n"
   ]
  }
 ],
 "metadata": {
  "interpreter": {
   "hash": "654c1b5d7f430213cac0354de5b000fb1f6888727d946f7666e82764644c8c7c"
  },
  "kernelspec": {
   "display_name": "Python 3.6.13 ('test_femder_env')",
   "language": "python",
   "name": "python3"
  },
  "language_info": {
   "codemirror_mode": {
    "name": "ipython",
    "version": 3
   },
   "file_extension": ".py",
   "mimetype": "text/x-python",
   "name": "python",
   "nbconvert_exporter": "python",
   "pygments_lexer": "ipython3",
   "version": "3.6.13"
  }
 },
 "nbformat": 4,
 "nbformat_minor": 2
}
