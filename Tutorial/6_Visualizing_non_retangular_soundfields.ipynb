{
 "cells": [
  {
   "cell_type": "markdown",
   "metadata": {},
   "source": [
    "#### Import required libraries and set path to main directory"
   ]
  },
  {
   "cell_type": "code",
   "execution_count": null,
   "metadata": {},
   "outputs": [],
   "source": [
    "import os\n",
    "import sys\n",
    "from pathlib import Path\n",
    "sys.path.append(str(Path(os.getcwd()).parent))"
   ]
  },
  {
   "cell_type": "markdown",
   "metadata": {},
   "source": [
    "#### Import required function to plot the soundfield"
   ]
  },
  {
   "cell_type": "code",
   "execution_count": null,
   "metadata": {},
   "outputs": [],
   "source": [
    "from Core.utils.plot_tools import general_room_sf, plot_square_sf"
   ]
  },
  {
   "cell_type": "markdown",
   "metadata": {},
   "source": [
    "### Visualize the soundfield on a non-retangular room\n",
    "\n",
    "* file_path: Complete path to the .mat file that will be simulated. It can be either a generated sample or a prediction saved\n",
    "* freq: frequency to be visualized, if available [Hz]"
   ]
  },
  {
   "cell_type": "code",
   "execution_count": null,
   "metadata": {},
   "outputs": [],
   "source": [
    "prediction_path = r\"D:\\DL_Datasets\\TCC_Files_Generation\\neural_network_sessions\\session_42\\prediction\\predicted_data.mat\"\n",
    "\n",
    "general_room_sf(file_path=prediction_path,\n",
    "                freq=51)"
   ]
  },
  {
   "cell_type": "markdown",
   "metadata": {},
   "source": [
    "#### Compare the soundfield predicted with the ground-truth"
   ]
  },
  {
   "cell_type": "code",
   "execution_count": null,
   "metadata": {},
   "outputs": [],
   "source": [
    "original_path = r\"D:\\DL_Datasets\\TCC_Files_Generation\\neural_network_sessions\\session_42\\prediction\\301_d_2.680180754721076_6.179902890814971_33.12651358801486_s_0.4370366_3.1896274_.mat\"\n",
    "# prediction_path = r\"C:\\\\Users\\\\aledr\\\\Desktop\\\\Folder_TCC\\\\prediction_184_d_4.225617107601002_5.781197448121427_48.85825367840231_s_-4.2260513_2.7973535_.mat\"\n",
    "# general_room_sf(file_path=prediction_path,plot_receptors=False,freq = 100)\n",
    "general_room_sf(file_path=original_path,plot_receptors=False,freq = 51)\n"
   ]
  }
 ],
 "metadata": {
  "interpreter": {
   "hash": "47770df038bf83ced3fe1fc0ddc2c3a4fbd1c60b3b4c54e3be020c1c020ec56b"
  },
  "kernelspec": {
   "display_name": "Python 3.8.8 ('base')",
   "language": "python",
   "name": "python3"
  },
  "language_info": {
   "codemirror_mode": {
    "name": "ipython",
    "version": 3
   },
   "file_extension": ".py",
   "mimetype": "text/x-python",
   "name": "python",
   "nbconvert_exporter": "python",
   "pygments_lexer": "ipython3",
   "version": "3.8.8"
  }
 },
 "nbformat": 4,
 "nbformat_minor": 2
}
